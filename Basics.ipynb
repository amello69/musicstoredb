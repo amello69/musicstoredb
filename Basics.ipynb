{
 "cells": [
  {
   "cell_type": "markdown",
   "metadata": {},
   "source": [
    "## Create helper functions"
   ]
  },
  {
   "cell_type": "code",
   "execution_count": 1,
   "metadata": {
    "collapsed": false
   },
   "outputs": [
    {
     "data": {
      "text/html": [
       "<div>\n",
       "<style scoped>\n",
       "    .dataframe tbody tr th:only-of-type {\n",
       "        vertical-align: middle;\n",
       "    }\n",
       "\n",
       "    .dataframe tbody tr th {\n",
       "        vertical-align: top;\n",
       "    }\n",
       "\n",
       "    .dataframe thead th {\n",
       "        text-align: right;\n",
       "    }\n",
       "</style>\n",
       "<table border=\"1\" class=\"dataframe\">\n",
       "  <thead>\n",
       "    <tr style=\"text-align: right;\">\n",
       "      <th></th>\n",
       "      <th>name</th>\n",
       "      <th>type</th>\n",
       "    </tr>\n",
       "  </thead>\n",
       "  <tbody>\n",
       "    <tr>\n",
       "      <th>0</th>\n",
       "      <td>album</td>\n",
       "      <td>table</td>\n",
       "    </tr>\n",
       "    <tr>\n",
       "      <th>1</th>\n",
       "      <td>artist</td>\n",
       "      <td>table</td>\n",
       "    </tr>\n",
       "    <tr>\n",
       "      <th>2</th>\n",
       "      <td>customer</td>\n",
       "      <td>table</td>\n",
       "    </tr>\n",
       "    <tr>\n",
       "      <th>3</th>\n",
       "      <td>employee</td>\n",
       "      <td>table</td>\n",
       "    </tr>\n",
       "    <tr>\n",
       "      <th>4</th>\n",
       "      <td>genre</td>\n",
       "      <td>table</td>\n",
       "    </tr>\n",
       "    <tr>\n",
       "      <th>5</th>\n",
       "      <td>invoice</td>\n",
       "      <td>table</td>\n",
       "    </tr>\n",
       "    <tr>\n",
       "      <th>6</th>\n",
       "      <td>invoice_line</td>\n",
       "      <td>table</td>\n",
       "    </tr>\n",
       "    <tr>\n",
       "      <th>7</th>\n",
       "      <td>media_type</td>\n",
       "      <td>table</td>\n",
       "    </tr>\n",
       "    <tr>\n",
       "      <th>8</th>\n",
       "      <td>playlist</td>\n",
       "      <td>table</td>\n",
       "    </tr>\n",
       "    <tr>\n",
       "      <th>9</th>\n",
       "      <td>playlist_track</td>\n",
       "      <td>table</td>\n",
       "    </tr>\n",
       "    <tr>\n",
       "      <th>10</th>\n",
       "      <td>track</td>\n",
       "      <td>table</td>\n",
       "    </tr>\n",
       "  </tbody>\n",
       "</table>\n",
       "</div>"
      ],
      "text/plain": [
       "              name   type\n",
       "0            album  table\n",
       "1           artist  table\n",
       "2         customer  table\n",
       "3         employee  table\n",
       "4            genre  table\n",
       "5          invoice  table\n",
       "6     invoice_line  table\n",
       "7       media_type  table\n",
       "8         playlist  table\n",
       "9   playlist_track  table\n",
       "10           track  table"
      ]
     },
     "execution_count": 1,
     "metadata": {},
     "output_type": "execute_result"
    }
   ],
   "source": [
    "import sqlite3\n",
    "import pandas as pd\n",
    "import matplotlib.pyplot as plt\n",
    "%matplotlib inline\n",
    "\n",
    "def run_query(q):\n",
    "    with sqlite3.connect('chinook.db') as conn:\n",
    "        return pd.read_sql(q, conn)\n",
    "\n",
    "def run_command(c):\n",
    "    with sqlite3.connect('chinook.db') as conn:\n",
    "        conn.isolation_level = None\n",
    "        conn.execute(c)\n",
    "        \n",
    "def show_tables():\n",
    "    \n",
    "    q = \"SELECT name, type FROM sqlite_master WHERE type IN ('table','view');\"\n",
    "    return run_query(q)\n",
    "     \n",
    "show_tables()  \n"
   ]
  },
  {
   "cell_type": "markdown",
   "metadata": {},
   "source": [
    "## Selecting albums to purchase"
   ]
  },
  {
   "cell_type": "code",
   "execution_count": 2,
   "metadata": {
    "collapsed": false
   },
   "outputs": [
    {
     "data": {
      "text/html": [
       "<div>\n",
       "<style scoped>\n",
       "    .dataframe tbody tr th:only-of-type {\n",
       "        vertical-align: middle;\n",
       "    }\n",
       "\n",
       "    .dataframe tbody tr th {\n",
       "        vertical-align: top;\n",
       "    }\n",
       "\n",
       "    .dataframe thead th {\n",
       "        text-align: right;\n",
       "    }\n",
       "</style>\n",
       "<table border=\"1\" class=\"dataframe\">\n",
       "  <thead>\n",
       "    <tr style=\"text-align: right;\">\n",
       "      <th></th>\n",
       "      <th>genre</th>\n",
       "      <th>tracks_purchased</th>\n",
       "      <th>percentage_sold</th>\n",
       "    </tr>\n",
       "  </thead>\n",
       "  <tbody>\n",
       "    <tr>\n",
       "      <th>0</th>\n",
       "      <td>Rock</td>\n",
       "      <td>561</td>\n",
       "      <td>53.377735</td>\n",
       "    </tr>\n",
       "    <tr>\n",
       "      <th>1</th>\n",
       "      <td>Alternative &amp; Punk</td>\n",
       "      <td>130</td>\n",
       "      <td>12.369172</td>\n",
       "    </tr>\n",
       "    <tr>\n",
       "      <th>2</th>\n",
       "      <td>Metal</td>\n",
       "      <td>124</td>\n",
       "      <td>11.798287</td>\n",
       "    </tr>\n",
       "    <tr>\n",
       "      <th>3</th>\n",
       "      <td>R&amp;B/Soul</td>\n",
       "      <td>53</td>\n",
       "      <td>5.042816</td>\n",
       "    </tr>\n",
       "    <tr>\n",
       "      <th>4</th>\n",
       "      <td>Blues</td>\n",
       "      <td>36</td>\n",
       "      <td>3.425309</td>\n",
       "    </tr>\n",
       "    <tr>\n",
       "      <th>5</th>\n",
       "      <td>Alternative</td>\n",
       "      <td>35</td>\n",
       "      <td>3.330162</td>\n",
       "    </tr>\n",
       "    <tr>\n",
       "      <th>6</th>\n",
       "      <td>Latin</td>\n",
       "      <td>22</td>\n",
       "      <td>2.093245</td>\n",
       "    </tr>\n",
       "    <tr>\n",
       "      <th>7</th>\n",
       "      <td>Pop</td>\n",
       "      <td>22</td>\n",
       "      <td>2.093245</td>\n",
       "    </tr>\n",
       "  </tbody>\n",
       "</table>\n",
       "</div>"
      ],
      "text/plain": [
       "                genre  tracks_purchased  percentage_sold\n",
       "0                Rock               561        53.377735\n",
       "1  Alternative & Punk               130        12.369172\n",
       "2               Metal               124        11.798287\n",
       "3            R&B/Soul                53         5.042816\n",
       "4               Blues                36         3.425309\n",
       "5         Alternative                35         3.330162\n",
       "6               Latin                22         2.093245\n",
       "7                 Pop                22         2.093245"
      ]
     },
     "execution_count": 2,
     "metadata": {},
     "output_type": "execute_result"
    }
   ],
   "source": [
    "# increase data to graphics ratio on plot        \n",
    "\n",
    "q1 =\"\"\"\n",
    "    WITH sales_usa AS\n",
    "    (\n",
    "        SELECT\n",
    "            il.* FROM invoice_line il\n",
    "        INNER JOIN invoice i ON i.invoice_id = il.invoice_id\n",
    "        INNER JOIN customer c ON c.customer_id = i.customer_id\n",
    "        WHERE c.country = 'USA'\n",
    "    )\n",
    "    SELECT \n",
    "        g.name genre,\n",
    "         COUNT(su.invoice_line_id) tracks_purchased, \n",
    "        (CAST(COUNT(su.track_id) AS FLOAT) * 100/(SELECT COUNT(*) FROM sales_usa)) percentage_sold\n",
    "    FROM sales_usa su\n",
    "    INNER JOIN track t ON t.track_id = su.track_id\n",
    "    INNER JOIN genre g ON g.genre_id = t.genre_id\n",
    "    GROUP BY 1\n",
    "    ORDER BY 2 DESC\n",
    "    LIMIT 8;\n",
    "    \"\"\"\n",
    "run_query(q1)"
   ]
  },
  {
   "cell_type": "code",
   "execution_count": 3,
   "metadata": {
    "collapsed": false
   },
   "outputs": [
    {
     "data": {
      "image/png": "[encoded data removed]",
      "text/plain": [
       "<matplotlib.figure.Figure at 0x7fd974c53f98>"
      ]
     },
     "metadata": {},
     "output_type": "display_data"
    }
   ],
   "source": [
    "genre_sales_usa = run_query(q1)\n",
    "genre_sales_usa.set_index(\"genre\", drop=True, inplace=True)\n",
    "genre_sales_usa[\"percentage_sold\"].plot.barh(title=\"Top Selling Genres in USA\")\n",
    "plt.show()"
   ]
  },
  {
   "cell_type": "markdown",
   "metadata": {},
   "source": [
    "### Findings\n",
    "The graphs shows that the top three(3) genres are Rock (53%), Alternative & Punk (12%) and Metal(11.8%) with Rock doing considerably better than any other genre. If our decision is to be informed by the data then we should purchase Red Tone, Slim Jim Blues and Meteor and the Girls for the store."
   ]
  },
  {
   "cell_type": "markdown",
   "metadata": {},
   "source": [
    "## Analyzing Employee Sales Performance"
   ]
  },
  {
   "cell_type": "code",
   "execution_count": 4,
   "metadata": {
    "collapsed": false
   },
   "outputs": [
    {
     "name": "stdout",
     "output_type": "stream",
     "text": [
      "   employee_name        date  total_sales\n",
      "0  Steve Johnson  2017-10-17      1393.92\n",
      "1  Margaret Park  2017-05-03      1584.00\n",
      "2   Jane Peacock  2017-04-01      1731.51\n"
     ]
    },
    {
     "data": {
      "image/png": "[encoded data removed]",
      "text/plain": [
       "<matplotlib.figure.Figure at 0x7fd974c96940>"
      ]
     },
     "metadata": {},
     "output_type": "display_data"
    }
   ],
   "source": [
    "import numpy as np\n",
    "# increase data to graphics ratio on plot        \n",
    "q2 = \"\"\"\n",
    "    SELECT \n",
    "        e.employee_name,\n",
    "        date(e.hire_date) as date,\n",
    "        SUM(i.total) total_sales\n",
    "    FROM invoice i\n",
    "    INNER JOIN customer c\n",
    "    ON c.customer_id = i.customer_id\n",
    "    INNER JOIN \n",
    "        (\n",
    "            SELECT\n",
    "                employee_id, \n",
    "                first_name ||\" \"|| last_name employee_name, \n",
    "                hire_date \n",
    "                FROM employee\n",
    "        ) e\n",
    "    ON e.employee_id = c.support_rep_id\n",
    "    GROUP BY 1\n",
    "    ORDER BY 2 DESC;\n",
    "    \"\"\"\n",
    "run_query(q2)\n",
    "employee_sales = run_query(q2)\n",
    "print(employee_sales)\n",
    "employee_sales.set_index(\"employee_name\",drop=True, inplace=True)\n",
    "employee_sales[\"total_sales\"].plot.barh(legend=False, title=\"Sales by Employee\")\n",
    "plt.show()\n"
   ]
  },
  {
   "cell_type": "markdown",
   "metadata": {},
   "source": [
    "### Interpretation:\n",
    "Jame Peacock has made the highest total dollar sales. Considertion of the chart suggests that the number of sales is based on length of time employee is at the store. "
   ]
  },
  {
   "cell_type": "markdown",
   "metadata": {
    "collapsed": true
   },
   "source": [
    "## Analyzing Sales by Country"
   ]
  },
  {
   "cell_type": "code",
   "execution_count": 5,
   "metadata": {
    "collapsed": false
   },
   "outputs": [
    {
     "data": {
      "text/html": [
       "<div>\n",
       "<style scoped>\n",
       "    .dataframe tbody tr th:only-of-type {\n",
       "        vertical-align: middle;\n",
       "    }\n",
       "\n",
       "    .dataframe tbody tr th {\n",
       "        vertical-align: top;\n",
       "    }\n",
       "\n",
       "    .dataframe thead th {\n",
       "        text-align: right;\n",
       "    }\n",
       "</style>\n",
       "<table border=\"1\" class=\"dataframe\">\n",
       "  <thead>\n",
       "    <tr style=\"text-align: right;\">\n",
       "      <th></th>\n",
       "      <th>country</th>\n",
       "      <th>total_customers</th>\n",
       "      <th>total_sales</th>\n",
       "      <th>average_order</th>\n",
       "      <th>avg_sales_per_customer</th>\n",
       "    </tr>\n",
       "  </thead>\n",
       "  <tbody>\n",
       "    <tr>\n",
       "      <th>0</th>\n",
       "      <td>USA</td>\n",
       "      <td>13</td>\n",
       "      <td>1040.49</td>\n",
       "      <td>7.9</td>\n",
       "      <td>80.0</td>\n",
       "    </tr>\n",
       "    <tr>\n",
       "      <th>1</th>\n",
       "      <td>Canada</td>\n",
       "      <td>8</td>\n",
       "      <td>535.59</td>\n",
       "      <td>7.0</td>\n",
       "      <td>66.9</td>\n",
       "    </tr>\n",
       "    <tr>\n",
       "      <th>2</th>\n",
       "      <td>Brazil</td>\n",
       "      <td>5</td>\n",
       "      <td>427.68</td>\n",
       "      <td>7.0</td>\n",
       "      <td>85.5</td>\n",
       "    </tr>\n",
       "    <tr>\n",
       "      <th>3</th>\n",
       "      <td>France</td>\n",
       "      <td>5</td>\n",
       "      <td>389.07</td>\n",
       "      <td>7.8</td>\n",
       "      <td>77.8</td>\n",
       "    </tr>\n",
       "    <tr>\n",
       "      <th>4</th>\n",
       "      <td>Germany</td>\n",
       "      <td>4</td>\n",
       "      <td>334.62</td>\n",
       "      <td>8.2</td>\n",
       "      <td>83.7</td>\n",
       "    </tr>\n",
       "    <tr>\n",
       "      <th>5</th>\n",
       "      <td>Czech Republic</td>\n",
       "      <td>2</td>\n",
       "      <td>273.24</td>\n",
       "      <td>9.1</td>\n",
       "      <td>136.6</td>\n",
       "    </tr>\n",
       "    <tr>\n",
       "      <th>6</th>\n",
       "      <td>United Kingdom</td>\n",
       "      <td>3</td>\n",
       "      <td>245.52</td>\n",
       "      <td>8.8</td>\n",
       "      <td>81.8</td>\n",
       "    </tr>\n",
       "    <tr>\n",
       "      <th>7</th>\n",
       "      <td>Portugal</td>\n",
       "      <td>2</td>\n",
       "      <td>185.13</td>\n",
       "      <td>6.4</td>\n",
       "      <td>92.6</td>\n",
       "    </tr>\n",
       "    <tr>\n",
       "      <th>8</th>\n",
       "      <td>India</td>\n",
       "      <td>2</td>\n",
       "      <td>183.15</td>\n",
       "      <td>8.7</td>\n",
       "      <td>91.6</td>\n",
       "    </tr>\n",
       "    <tr>\n",
       "      <th>9</th>\n",
       "      <td>Other</td>\n",
       "      <td>15</td>\n",
       "      <td>1094.94</td>\n",
       "      <td>7.4</td>\n",
       "      <td>73.0</td>\n",
       "    </tr>\n",
       "  </tbody>\n",
       "</table>\n",
       "</div>"
      ],
      "text/plain": [
       "          country  total_customers  total_sales  average_order  \\\n",
       "0             USA               13      1040.49            7.9   \n",
       "1          Canada                8       535.59            7.0   \n",
       "2          Brazil                5       427.68            7.0   \n",
       "3          France                5       389.07            7.8   \n",
       "4         Germany                4       334.62            8.2   \n",
       "5  Czech Republic                2       273.24            9.1   \n",
       "6  United Kingdom                3       245.52            8.8   \n",
       "7        Portugal                2       185.13            6.4   \n",
       "8           India                2       183.15            8.7   \n",
       "9           Other               15      1094.94            7.4   \n",
       "\n",
       "   avg_sales_per_customer  \n",
       "0                    80.0  \n",
       "1                    66.9  \n",
       "2                    85.5  \n",
       "3                    77.8  \n",
       "4                    83.7  \n",
       "5                   136.6  \n",
       "6                    81.8  \n",
       "7                    92.6  \n",
       "8                    91.6  \n",
       "9                    73.0  "
      ]
     },
     "execution_count": 5,
     "metadata": {},
     "output_type": "execute_result"
    }
   ],
   "source": [
    "# Total orders should not be equal to total number of customers \n",
    "# because there are customers who placed more than one order\n",
    "#rewrite code from scratch: do country grouping first\n",
    "\n",
    "q=\"\"\"\n",
    "\n",
    "WITH \n",
    "    country_sales AS\n",
    "        ( \n",
    "            SELECT\n",
    "                CASE\n",
    "                   WHEN (\n",
    "                         SELECT count(*)\n",
    "                         FROM customer\n",
    "                         where country = c.country\n",
    "                        ) = 1 THEN \"Other\"\n",
    "                   ELSE c.country\n",
    "                END AS country,\n",
    "               c.customer_id,\n",
    "               il.*\n",
    "            FROM invoice_line il\n",
    "            INNER JOIN invoice i ON i.invoice_id = il.invoice_id\n",
    "            INNER JOIN customer c ON c.customer_id = i.customer_id\n",
    "        ),\n",
    "    country_calc AS\n",
    "        (\n",
    "            SELECT\n",
    "                country,\n",
    "                count(distinct customer_id) total_customers,\n",
    "                SUM(unit_price) total_sales,\n",
    "                ROUND(SUM(unit_price) / count(distinct invoice_id),1) average_order,\n",
    "                ROUND(SUM(unit_price) / count(distinct customer_id), 1) avg_sales_per_customer,\n",
    "                CASE\n",
    "                    WHEN country = \"Other\" THEN 1\n",
    "                    ELSE 0\n",
    "                END AS sort\n",
    "            FROM country_sales\n",
    "            GROUP BY country\n",
    "            ORDER BY sort ASC, total_sales DESC\n",
    "        )\n",
    "SELECT\n",
    "    country,\n",
    "    total_customers,\n",
    "    total_sales,\n",
    "    average_order,\n",
    "    avg_sales_per_customer\n",
    "FROM country_calc\n",
    "\n",
    "    \"\"\"\n",
    "\n",
    "run_query(q)"
   ]
  },
  {
   "cell_type": "markdown",
   "metadata": {
    "collapsed": true
   },
   "source": [
    "   ## Visualizing Sales by Country  "
   ]
  },
  {
   "cell_type": "code",
   "execution_count": 6,
   "metadata": {
    "collapsed": false
   },
   "outputs": [
    {
     "name": "stdout",
     "output_type": "stream",
     "text": [
      "          country  total_customers  total_sales  average_order  \\\n",
      "0             USA               13      1040.49            7.9   \n",
      "1          Canada                8       535.59            7.0   \n",
      "2          Brazil                5       427.68            7.0   \n",
      "3          France                5       389.07            7.8   \n",
      "4         Germany                4       334.62            8.2   \n",
      "5  Czech Republic                2       273.24            9.1   \n",
      "6  United Kingdom                3       245.52            8.8   \n",
      "7        Portugal                2       185.13            6.4   \n",
      "8           India                2       183.15            8.7   \n",
      "9           Other               15      1094.94            7.4   \n",
      "\n",
      "   avg_sales_per_customer  \n",
      "0                    80.0  \n",
      "1                    66.9  \n",
      "2                    85.5  \n",
      "3                    77.8  \n",
      "4                    83.7  \n",
      "5                   136.6  \n",
      "6                    81.8  \n",
      "7                    92.6  \n",
      "8                    91.6  \n",
      "9                    73.0  \n"
     ]
    },
    {
     "data": {
      "image/png": "[encoded data removed]",
      "text/plain": [
       "<matplotlib.figure.Figure at 0x7fd96346ad68>"
      ]
     },
     "metadata": {},
     "output_type": "display_data"
    }
   ],
   "source": [
    "#plots glorious plots\n",
    "import seaborn as sns\n",
    "sales_country = run_query(q)\n",
    "print(sales_country)\n",
    "sales_country.set_index(\"country\", drop=True, inplace=True)\n",
    "#x = sales_country[\"country\"]\n",
    "#y = sales_country[\"total_customers\"]\n",
    "sales_country[\"total_customers\"].plot.bar(title='Customers By Country')\n",
    "plt.xlabel('')\n",
    "plt.show()\n",
    "\n"
   ]
  },
  {
   "cell_type": "code",
   "execution_count": 7,
   "metadata": {
    "collapsed": false
   },
   "outputs": [
    {
     "data": {
      "image/png": "[encoded data removed]",
      "text/plain": [
       "<matplotlib.figure.Figure at 0x7fd962fb4b00>"
      ]
     },
     "metadata": {},
     "output_type": "display_data"
    }
   ],
   "source": [
    "sales_country = run_query(q)\n",
    "# Pie chart\n",
    "labels = sales_country['country']\n",
    "sizes = sales_country['total_sales']\n",
    "#colors\n",
    "colors = ['#ff9999','#66b3ff','#99ff99','#88cc99', '#c2c2f0','#77b3a6', '#c2c2d0','#ffb3f6', '#c2c2f0','#ffa3e6']\n",
    "#explsion\n",
    "explode = (0.01,0.01,0.01,0.01,0.01,0.01,0.01,0.01,0.01,0.01)\n",
    " \n",
    "plt.pie(sizes, colors = colors, labels=labels, autopct='%1.1f%%', startangle=90, pctdistance=0.85, explode = explode)\n",
    "#draw circle\n",
    "centre_circle = plt.Circle((0,0),0.74,fc='white')\n",
    "fig = plt.gcf()\n",
    "#fig.gca().add_artist(centre_circle)\n",
    "# Equal aspect ratio ensures that pie is drawn as a circle\n",
    "plt.title('Total Sales By Country')\n",
    "plt.tight_layout()\n",
    "plt.show()"
   ]
  },
  {
   "cell_type": "code",
   "execution_count": 28,
   "metadata": {
    "collapsed": false
   },
   "outputs": [
    {
     "data": {
      "image/png": "[encoded data removed]",
      "text/plain": [
       "<matplotlib.figure.Figure at 0x7fd96ae3e390>"
      ]
     },
     "metadata": {},
     "output_type": "display_data"
    }
   ],
   "source": [
    "sales_country[\"avg_sales_per_customer\"].plot.bar(title='Average Sale per Customer')\n",
    "plt.xlabel('')\n",
    "plt.show()"
   ]
  },
  {
   "cell_type": "code",
   "execution_count": null,
   "metadata": {
    "collapsed": true
   },
   "outputs": [],
   "source": []
  }
 ],
 "metadata": {
  "kernelspec": {
   "display_name": "Python 3",
   "language": "python",
   "name": "python3"
  },
  "language_info": {
   "codemirror_mode": {
    "name": "ipython",
    "version": 3
   },
   "file_extension": ".py",
   "mimetype": "text/x-python",
   "name": "python",
   "nbconvert_exporter": "python",
   "pygments_lexer": "ipython3",
   "version": "3.4.3"
  }
 },
 "nbformat": 4,
 "nbformat_minor": 2
}
